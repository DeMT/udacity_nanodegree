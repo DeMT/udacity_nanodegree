{
 "cells": [
  {
   "cell_type": "code",
   "execution_count": 7,
   "metadata": {
    "collapsed": false
   },
   "outputs": [],
   "source": [
    "def gradient(m ,b , points , learningRate):\n",
    "    # loss = 1/N * sum N((y - (mx+b))^2)\n",
    "    # greident b= 2/N * sum N((y-(mx+b)))\n",
    "    # greident m = 2/N * x * sum N ((y-(mx+b)))\n",
    "    g_b = 0\n",
    "    g_m = 0\n",
    "    N = len(points)\n",
    "    for x , y in points :\n",
    "        g_b += (-1)* (y-(m*x+b))\n",
    "        g_m += (-x) * (y-(m*x+b))\n",
    "    m = m - (learningRate * 2/N * g_m)\n",
    "    b = b - (learningRate * 2/N * g_b)\n",
    "    return m,b\n",
    "def loss_function(m,b,points):\n",
    "    N = len(points)\n",
    "    loss = 0\n",
    "    # loss = 1/N * sum N((y - (mx+b))^2)\n",
    "    for x , y in points:\n",
    "        loss += 1/N *(y-(m*x+b))**2\n",
    "    return loss\n",
    "def predeict(m,b,x_values):\n",
    "    y_values = np.empty(x_values.shape)    \n",
    "    for i,x in enumerate(x_values):\n",
    "        y = m*x+b\n",
    "        y_values[i] = y\n",
    "    return y_values"
   ]
  },
  {
   "cell_type": "code",
   "execution_count": 9,
   "metadata": {
    "collapsed": false
   },
   "outputs": [
    {
     "name": "stdout",
     "output_type": "stream",
     "text": [
      "start loss is :  5565.10783448\n",
      "at step 0 m , b , loss : 0.737070297359 0.0145470101107 1484.58655741\n",
      "at step 100 m , b , loss : 1.47880153728 0.0351350200291 112.64702057\n",
      "at step 200 m , b , loss : 1.47868355691 0.0411376754274 112.643416004\n",
      "at step 300 m , b , loss : 1.47856566557 0.0471358018678 112.639816876\n",
      "at step 400 m , b , loss : 1.47844786317 0.0531294027675 112.636223176\n",
      "at step 500 m , b , loss : 1.47833014965 0.0591184815409 112.632634897\n",
      "at step 600 m , b , loss : 1.47821252494 0.0651030416 112.629052031\n",
      "at step 700 m , b , loss : 1.47809498899 0.0710830863541 112.62547457\n",
      "at step 800 m , b , loss : 1.47797754171 0.0770586192099 112.621902504\n",
      "at step 900 m , b , loss : 1.47786018304 0.0830296435717 112.618335827\n",
      "end loss is : 112.614810116\n"
     ]
    }
   ],
   "source": [
    "import numpy as np \n",
    "m = 0\n",
    "b = 0\n",
    "step = 1000\n",
    "data=np.genfromtxt('data.csv' , delimiter=',')\n",
    "print('start loss is : ' , loss_function(m,b,data))\n",
    "for i in range(0 , step):\n",
    "    m,b= gradient(m,b,data , learningRate = 0.0001)\n",
    "    if i %100 ==0:\n",
    "        print('at step {}'.format(i),'m , b , loss :',m,b,loss_function(m,b,data))\n",
    "print('end loss is :' ,loss_function(m,b,data) )"
   ]
  },
  {
   "cell_type": "code",
   "execution_count": 10,
   "metadata": {
    "collapsed": false
   },
   "outputs": [
    {
     "data": {
      "image/png": "[encoded data removed]",
      "text/plain": [
       "<matplotlib.figure.Figure at 0x205ed6d6cc0>"
      ]
     },
     "metadata": {},
     "output_type": "display_data"
    }
   ],
   "source": [
    "import matplotlib.pyplot as plt\n",
    "x_values = data[: , 0]\n",
    "y_values = data[: , 1]\n",
    "plt.scatter(x_values , y_values)\n",
    "plt.plot(x_values ,predeict(m,b,x_values) )\n",
    "image = plt.show()\n",
    "# for i in range(0 , step):\n",
    "#     m = 0\n",
    "#     b = 0\n",
    "#     m,b= greident(m,b,data , learningRate = 0.0001)\n",
    "#     error = loss_function(m,b,data)\n",
    "#     plt.plot(x_values ,predeict(m,b,x_values) )\n",
    "#     plt.text(x=25 , y = 130 , s='error:{}'.format(error))\n",
    "#     plt.show()\n"
   ]
  }
 ],
 "metadata": {
  "anaconda-cloud": {},
  "kernelspec": {
   "display_name": "Python [default]",
   "language": "python",
   "name": "python3"
  },
  "language_info": {
   "codemirror_mode": {
    "name": "ipython",
    "version": 3
   },
   "file_extension": ".py",
   "mimetype": "text/x-python",
   "name": "python",
   "nbconvert_exporter": "python",
   "pygments_lexer": "ipython3",
   "version": "3.5.2"
  }
 },
 "nbformat": 4,
 "nbformat_minor": 1
}
