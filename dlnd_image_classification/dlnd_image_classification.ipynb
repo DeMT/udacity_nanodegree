{
 "cells": [
  {
   "cell_type": "markdown",
   "metadata": {
    "collapsed": true
   },
   "source": [
    "# Image Classification\n",
    "In this project, you'll classify images from the [CIFAR-10 dataset](https://www.cs.toronto.edu/~kriz/cifar.html).  The dataset consists of airplanes, dogs, cats, and other objects. You'll preprocess the images, then train a convolutional neural network on all the samples. The images need to be normalized and the labels need to be one-hot encoded.  You'll get to apply what you learned and build a convolutional, max pooling, dropout, and fully connected layers.  At the end, you'll get to see your neural network's predictions on the sample images.\n",
    "## Get the Data\n",
    "Run the following cell to download the [CIFAR-10 dataset for python](https://www.cs.toronto.edu/~kriz/cifar-10-python.tar.gz)."
   ]
  },
  {
   "cell_type": "code",
   "execution_count": 1,
   "metadata": {
    "collapsed": false
   },
   "outputs": [
    {
     "name": "stdout",
     "output_type": "stream",
     "text": [
      "All files found!\n"
     ]
    }
   ],
   "source": [
    "\"\"\"\n",
    "DON'T MODIFY ANYTHING IN THIS CELL THAT IS BELOW THIS LINE\n",
    "\"\"\"\n",
    "from urllib.request import urlretrieve\n",
    "from os.path import isfile, isdir\n",
    "from tqdm import tqdm\n",
    "import problem_unittests as tests\n",
    "import tarfile\n",
    "\n",
    "cifar10_dataset_folder_path = 'cifar-10-batches-py'\n",
    "\n",
    "# Use Floyd's cifar-10 dataset if present\n",
    "floyd_cifar10_location = '/input/cifar-10/python.tar.gz'\n",
    "if isfile(floyd_cifar10_location):\n",
    "    tar_gz_path = floyd_cifar10_location\n",
    "else:\n",
    "    tar_gz_path = 'cifar-10-python.tar.gz'\n",
    "\n",
    "class DLProgress(tqdm):\n",
    "    last_block = 0\n",
    "\n",
    "    def hook(self, block_num=1, block_size=1, total_size=None):\n",
    "        self.total = total_size\n",
    "        self.update((block_num - self.last_block) * block_size)\n",
    "        self.last_block = block_num\n",
    "\n",
    "if not isfile(tar_gz_path):\n",
    "    with DLProgress(unit='B', unit_scale=True, miniters=1, desc='CIFAR-10 Dataset') as pbar:\n",
    "        urlretrieve(\n",
    "            'https://www.cs.toronto.edu/~kriz/cifar-10-python.tar.gz',\n",
    "            tar_gz_path,\n",
    "            pbar.hook)\n",
    "\n",
    "if not isdir(cifar10_dataset_folder_path):\n",
    "    with tarfile.open(tar_gz_path) as tar:\n",
    "        tar.extractall()\n",
    "        tar.close()\n",
    "\n",
    "\n",
    "tests.test_folder_path(cifar10_dataset_folder_path)"
   ]
  },
  {
   "cell_type": "markdown",
   "metadata": {},
   "source": [
    "## Explore the Data\n",
    "The dataset is broken into batches to prevent your machine from running out of memory.  The CIFAR-10 dataset consists of 5 batches, named `data_batch_1`, `data_batch_2`, etc.. Each batch contains the labels and images that are one of the following:\n",
    "* airplane\n",
    "* automobile\n",
    "* bird\n",
    "* cat\n",
    "* deer\n",
    "* dog\n",
    "* frog\n",
    "* horse\n",
    "* ship\n",
    "* truck\n",
    "\n",
    "Understanding a dataset is part of making predictions on the data.  Play around with the code cell below by changing the `batch_id` and `sample_id`. The `batch_id` is the id for a batch (1-5). The `sample_id` is the id for a image and label pair in the batch.\n",
    "\n",
    "Ask yourself \"What are all possible labels?\", \"What is the range of values for the image data?\", \"Are the labels in order or random?\".  Answers to questions like these will help you preprocess the data and end up with better predictions."
   ]
  },
  {
   "cell_type": "code",
   "execution_count": 2,
   "metadata": {
    "collapsed": false
   },
   "outputs": [
    {
     "name": "stdout",
     "output_type": "stream",
     "text": [
      "\n",
      "Stats of batch 5:\n",
      "Samples: 10000\n",
      "Label Counts: {0: 1014, 1: 1014, 2: 952, 3: 1016, 4: 997, 5: 1025, 6: 980, 7: 977, 8: 1003, 9: 1022}\n",
      "First 20 Labels: [1, 8, 5, 1, 5, 7, 4, 3, 8, 2, 7, 2, 0, 1, 5, 9, 6, 2, 0, 8]\n",
      "\n",
      "Example of Image 5:\n",
      "Image - Min Value: 1 Max Value: 255\n",
      "Image - Shape: (32, 32, 3)\n",
      "Label - Label Id: 7 Name: horse\n"
     ]
    },
    {
     "data": {
      "image/png": "[encoded data removed]",
      "text/plain": [
       "<matplotlib.figure.Figure at 0x1f973ddec18>"
      ]
     },
     "metadata": {
      "image/png": {
       "height": 250,
       "width": 253
      }
     },
     "output_type": "display_data"
    }
   ],
   "source": [
    "%matplotlib inline\n",
    "%config InlineBackend.figure_format = 'retina'\n",
    "\n",
    "import helper\n",
    "import numpy as np\n",
    "\n",
    "# Explore the dataset\n",
    "batch_id = 5\n",
    "sample_id = 5\n",
    "helper.display_stats(cifar10_dataset_folder_path, batch_id, sample_id)"
   ]
  },
  {
   "cell_type": "markdown",
   "metadata": {},
   "source": [
    "## Implement Preprocess Functions\n",
    "### Normalize\n",
    "In the cell below, implement the `normalize` function to take in image data, `x`, and return it as a normalized Numpy array. The values should be in the range of 0 to 1, inclusive.  The return object should be the same shape as `x`."
   ]
  },
  {
   "cell_type": "code",
   "execution_count": 3,
   "metadata": {
    "collapsed": false
   },
   "outputs": [
    {
     "name": "stdout",
     "output_type": "stream",
     "text": [
      "(359, 32, 32, 3)\n",
      "(359, 32, 32, 3)\n",
      "Tests Passed\n"
     ]
    }
   ],
   "source": [
    "def normalize(x):\n",
    "    after = []\n",
    "    \"\"\"\n",
    "    Normalize a list of sample image data in the range of 0 to 1\n",
    "    : x: List of image data.  The image shape is (32, 32, 3)\n",
    "    : return: Numpy array of normalize data\n",
    "    \"\"\"\n",
    "    imgs=np.array(x)\n",
    "    print(imgs.shape)\n",
    "    for img in imgs:\n",
    "        after+=[img/255.]\n",
    "    x=np.array(after)\n",
    "    print(x.shape)\n",
    "    # TODO: Implement Function\n",
    "    return x\n",
    "\n",
    "\n",
    "\"\"\"\n",
    "DON'T MODIFY ANYTHING IN THIS CELL THAT IS BELOW THIS LINE\n",
    "\"\"\"\n",
    "tests.test_normalize(normalize)"
   ]
  },
  {
   "cell_type": "markdown",
   "metadata": {},
   "source": [
    "### One-hot encode\n",
    "Just like the previous code cell, you'll be implementing a function for preprocessing.  This time, you'll implement the `one_hot_encode` function. The input, `x`, are a list of labels.  Implement the function to return the list of labels as One-Hot encoded Numpy array.  The possible values for labels are 0 to 9. The one-hot encoding function should return the same encoding for each value between each call to `one_hot_encode`.  Make sure to save the map of encodings outside the function.\n",
    "\n",
    "Hint: Don't reinvent the wheel."
   ]
  },
  {
   "cell_type": "code",
   "execution_count": 5,
   "metadata": {
    "collapsed": false
   },
   "outputs": [
    {
     "name": "stdout",
     "output_type": "stream",
     "text": [
      "Tests Passed\n"
     ]
    }
   ],
   "source": [
    "# encode_map = {label: one_hot_encode(label)  for label in x}\n",
    "\n",
    "def one_hot_encode(x):\n",
    "    after = []\n",
    "    \"\"\"\n",
    "    One hot encode a list of sample labels. Return a one-hot encoded vector for each label.\n",
    "    : x: List of sample Labels\n",
    "    : return: Numpy array of one-hot encoded labels\n",
    "    \"\"\"\n",
    "    for label in x:\n",
    "        onehot=np.zeros(10)\n",
    "        onehot[label] = 1\n",
    "        after +=[onehot]\n",
    "    \n",
    "    x=np.stack(after)\n",
    "    # TODO: Implement Function\n",
    "    return x\n",
    "\n",
    "\n",
    "\"\"\"\n",
    "DON'T MODIFY ANYTHING IN THIS CELL THAT IS BELOW THIS LINE\n",
    "\"\"\"\n",
    "tests.test_one_hot_encode(one_hot_encode)"
   ]
  },
  {
   "cell_type": "markdown",
   "metadata": {},
   "source": [
    "### Randomize Data\n",
    "As you saw from exploring the data above, the order of the samples are randomized.  It doesn't hurt to randomize it again, but you don't need to for this dataset."
   ]
  },
  {
   "cell_type": "markdown",
   "metadata": {},
   "source": [
    "## Preprocess all the data and save it\n",
    "Running the code cell below will preprocess all the CIFAR-10 data and save it to file. The code below also uses 10% of the training data for validation."
   ]
  },
  {
   "cell_type": "code",
   "execution_count": 6,
   "metadata": {
    "collapsed": false
   },
   "outputs": [
    {
     "name": "stdout",
     "output_type": "stream",
     "text": [
      "(9000, 32, 32, 3)\n",
      "(9000, 32, 32, 3)\n",
      "(9000, 32, 32, 3)\n",
      "(9000, 32, 32, 3)\n",
      "(9000, 32, 32, 3)\n",
      "(9000, 32, 32, 3)\n",
      "(9000, 32, 32, 3)\n",
      "(9000, 32, 32, 3)\n",
      "(9000, 32, 32, 3)\n",
      "(9000, 32, 32, 3)\n",
      "(5000, 32, 32, 3)\n",
      "(5000, 32, 32, 3)\n",
      "(10000, 32, 32, 3)\n",
      "(10000, 32, 32, 3)\n"
     ]
    }
   ],
   "source": [
    "\"\"\"\n",
    "DON'T MODIFY ANYTHING IN THIS CELL\n",
    "\"\"\"\n",
    "# Preprocess Training, Validation, and Testing Data\n",
    "helper.preprocess_and_save_data(cifar10_dataset_folder_path, normalize, one_hot_encode)"
   ]
  },
  {
   "cell_type": "markdown",
   "metadata": {},
   "source": [
    "# Check Point\n",
    "This is your first checkpoint.  If you ever decide to come back to this notebook or have to restart the notebook, you can start from here.  The preprocessed data has been saved to disk."
   ]
  },
  {
   "cell_type": "code",
   "execution_count": 1,
   "metadata": {
    "collapsed": true
   },
   "outputs": [],
   "source": [
    "\"\"\"\n",
    "DON'T MODIFY ANYTHING IN THIS CELL\n",
    "\"\"\"\n",
    "import pickle\n",
    "import problem_unittests as tests\n",
    "import helper\n",
    "\n",
    "# Load the Preprocessed Validation data\n",
    "valid_features, valid_labels = pickle.load(open('preprocess_validation.p', mode='rb'))"
   ]
  },
  {
   "cell_type": "markdown",
   "metadata": {},
   "source": [
    "## Build the network\n",
    "For the neural network, you'll build each layer into a function.  Most of the code you've seen has been outside of functions. To test your code more thoroughly, we require that you put each layer in a function.  This allows us to give you better feedback and test for simple mistakes using our unittests before you submit your project.\n",
    "\n",
    ">**Note:** If you're finding it hard to dedicate enough time for this course each week, we've provided a small shortcut to this part of the project. In the next couple of problems, you'll have the option to use classes from the [TensorFlow Layers](https://www.tensorflow.org/api_docs/python/tf/layers) or [TensorFlow Layers (contrib)](https://www.tensorflow.org/api_guides/python/contrib.layers) packages to build each layer, except the layers you build in the \"Convolutional and Max Pooling Layer\" section.  TF Layers is similar to Keras's and TFLearn's abstraction to layers, so it's easy to pickup.\n",
    "\n",
    ">However, if you would like to get the most out of this course, try to solve all the problems _without_ using anything from the TF Layers packages. You **can** still use classes from other packages that happen to have the same name as ones you find in TF Layers! For example, instead of using the TF Layers version of the `conv2d` class, [tf.layers.conv2d](https://www.tensorflow.org/api_docs/python/tf/layers/conv2d), you would want to use the TF Neural Network version of `conv2d`, [tf.nn.conv2d](https://www.tensorflow.org/api_docs/python/tf/nn/conv2d). \n",
    "\n",
    "Let's begin!\n",
    "\n",
    "### Input\n",
    "The neural network needs to read the image data, one-hot encoded labels, and dropout keep probability. Implement the following functions\n",
    "* Implement `neural_net_image_input`\n",
    " * Return a [TF Placeholder](https://www.tensorflow.org/api_docs/python/tf/placeholder)\n",
    " * Set the shape using `image_shape` with batch size set to `None`.\n",
    " * Name the TensorFlow placeholder \"x\" using the TensorFlow `name` parameter in the [TF Placeholder](https://www.tensorflow.org/api_docs/python/tf/placeholder).\n",
    "* Implement `neural_net_label_input`\n",
    " * Return a [TF Placeholder](https://www.tensorflow.org/api_docs/python/tf/placeholder)\n",
    " * Set the shape using `n_classes` with batch size set to `None`.\n",
    " * Name the TensorFlow placeholder \"y\" using the TensorFlow `name` parameter in the [TF Placeholder](https://www.tensorflow.org/api_docs/python/tf/placeholder).\n",
    "* Implement `neural_net_keep_prob_input`\n",
    " * Return a [TF Placeholder](https://www.tensorflow.org/api_docs/python/tf/placeholder) for dropout keep probability.\n",
    " * Name the TensorFlow placeholder \"keep_prob\" using the TensorFlow `name` parameter in the [TF Placeholder](https://www.tensorflow.org/api_docs/python/tf/placeholder).\n",
    "\n",
    "These names will be used at the end of the project to load your saved model.\n",
    "\n",
    "Note: `None` for shapes in TensorFlow allow for a dynamic size."
   ]
  },
  {
   "cell_type": "code",
   "execution_count": 2,
   "metadata": {
    "collapsed": false
   },
   "outputs": [
    {
     "name": "stdout",
     "output_type": "stream",
     "text": [
      "Image Input Tests Passed.\n",
      "Label Input Tests Passed.\n",
      "Keep Prob Tests Passed.\n"
     ]
    }
   ],
   "source": [
    "import tensorflow as tf\n",
    "\n",
    "def neural_net_image_input(image_shape):\n",
    "    \n",
    "    \"\"\"\n",
    "    Return a Tensor for a bach of image input\n",
    "    : image_shape: Shape of the images\n",
    "    : return: Tensor for image input.\n",
    "    \"\"\"\n",
    "    # TODO: Implement Function\n",
    "    return tf.placeholder(tf.float32 , (None,image_shape[0],image_shape[1],image_shape[2]) ,name='x')\n",
    "\n",
    "\n",
    "def neural_net_label_input(n_classes):\n",
    "    \"\"\"\n",
    "    Return a Tensor for a batch of label input\n",
    "    : n_classes: Number of classes\n",
    "    : return: Tensor for label input.\n",
    "    \"\"\"\n",
    "    # TODO: Implement Function\n",
    "    \n",
    "    return tf.placeholder(tf.int32,(None,n_classes) , name='y')\n",
    "\n",
    "\n",
    "def neural_net_keep_prob_input():\n",
    "    \"\"\"\n",
    "    Return a Tensor for keep probability\n",
    "    : return: Tensor for keep probability.\n",
    "    \"\"\"\n",
    "    # TODO: Implement Function\n",
    "    return tf.placeholder(tf.float32 , name='keep_prob')\n",
    "\n",
    "\n",
    "\"\"\"\n",
    "DON'T MODIFY ANYTHING IN THIS CELL THAT IS BELOW THIS LINE\n",
    "\"\"\"\n",
    "tf.reset_default_graph()\n",
    "tests.test_nn_image_inputs(neural_net_image_input)\n",
    "tests.test_nn_label_inputs(neural_net_label_input)\n",
    "tests.test_nn_keep_prob_inputs(neural_net_keep_prob_input)"
   ]
  },
  {
   "cell_type": "markdown",
   "metadata": {},
   "source": [
    "### Convolution and Max Pooling Layer\n",
    "Convolution layers have a lot of success with images. For this code cell, you should implement the function `conv2d_maxpool` to apply convolution then max pooling:\n",
    "* Create the weight and bias using `conv_ksize`, `conv_num_outputs` and the shape of `x_tensor`.\n",
    "* Apply a convolution to `x_tensor` using weight and `conv_strides`.\n",
    " * We recommend you use same padding, but you're welcome to use any padding.\n",
    "* Add bias\n",
    "* Add a nonlinear activation to the convolution.\n",
    "* Apply Max Pooling using `pool_ksize` and `pool_strides`.\n",
    " * We recommend you use same padding, but you're welcome to use any padding.\n",
    "\n",
    "**Note:** You **can't** use [TensorFlow Layers](https://www.tensorflow.org/api_docs/python/tf/layers) or [TensorFlow Layers (contrib)](https://www.tensorflow.org/api_guides/python/contrib.layers) for **this** layer, but you can still use TensorFlow's [Neural Network](https://www.tensorflow.org/api_docs/python/tf/nn) package. You may still use the shortcut option for all the **other** layers."
   ]
  },
  {
   "cell_type": "code",
   "execution_count": 3,
   "metadata": {
    "collapsed": false
   },
   "outputs": [
    {
     "name": "stdout",
     "output_type": "stream",
     "text": [
      "Tests Passed\n"
     ]
    }
   ],
   "source": [
    "import numpy as np\n",
    "def conv2d_maxpool(x_tensor, conv_num_outputs, conv_ksize, conv_strides, pool_ksize, pool_strides):\n",
    "    \"\"\"\n",
    "    Apply convolution then max pooling to x_tensor\n",
    "    :param x_tensor: TensorFlow Tensor\n",
    "    :param conv_num_outputs: Number of outputs for the convolutional layer\n",
    "    :param conv_ksize: kernal size 2-D Tuple for the convolutional layer\n",
    "    :param conv_strides: Stride 2-D Tuple for convolution\n",
    "    :param pool_ksize: kernal size 2-D Tuple for pool\n",
    "    :param pool_strides: Stride 2-D Tuple for pool\n",
    "    : return: A tensor that represents convolution and max pooling of x_tensor\n",
    "    \"\"\"\n",
    "    # TODO: Implement Function\n",
    "    in_depth = int(x_tensor.shape[-1])\n",
    "    filter_size_h = conv_ksize[0]\n",
    "    filter_size_w = conv_ksize[1]\n",
    "    filter_size = np.array([filter_size_h , filter_size_w ,in_depth,conv_num_outputs])\n",
    "    x_shape=x_tensor.get_shape().as_list()\n",
    "    weight = tf.Variable(tf.truncated_normal(filter_size , stddev=0.01))\n",
    "    bias = tf.Variable(tf.zeros(conv_num_outputs))\n",
    "    convoluted_layer = tf.nn.conv2d(x_tensor,weight,[1,conv_strides[0],conv_strides[1],1],'SAME' , use_cudnn_on_gpu=True)\n",
    "    add_bias = tf.nn.bias_add(convoluted_layer,bias)    \n",
    "    pool_ksize = [1]+list(pool_ksize)+[1]\n",
    "    pool_strides = [1]+list(pool_strides)+[1]\n",
    "    actv=tf.nn.relu(add_bias)\n",
    "    pooling_layer = tf.nn.max_pool(actv , pool_ksize ,pool_strides,padding='SAME')    \n",
    "    return pooling_layer \n",
    "\n",
    "\n",
    "\"\"\"\n",
    "DON'T MODIFY ANYTHING IN THIS CELL THAT IS BELOW THIS LINE\n",
    "\"\"\"\n",
    "tests.test_con_pool(conv2d_maxpool)"
   ]
  },
  {
   "cell_type": "markdown",
   "metadata": {},
   "source": [
    "### Flatten Layer\n",
    "Implement the `flatten` function to change the dimension of `x_tensor` from a 4-D tensor to a 2-D tensor.  The output should be the shape (*Batch Size*, *Flattened Image Size*). Shortcut option: you can use classes from the [TensorFlow Layers](https://www.tensorflow.org/api_docs/python/tf/layers) or [TensorFlow Layers (contrib)](https://www.tensorflow.org/api_guides/python/contrib.layers) packages for this layer. For more of a challenge, only use other TensorFlow packages."
   ]
  },
  {
   "cell_type": "code",
   "execution_count": 4,
   "metadata": {
    "collapsed": false
   },
   "outputs": [
    {
     "name": "stdout",
     "output_type": "stream",
     "text": [
      "Tests Passed\n"
     ]
    }
   ],
   "source": [
    "def flatten(x_tensor):\n",
    "    \"\"\"\n",
    "    Flatten x_tensor to (Batch Size, Flattened Image Size)\n",
    "    : x_tensor: A tensor of size (Batch Size, ...), where ... are the image dimensions.\n",
    "    : return: A tensor of size (Batch Size, Flattened Image Size).\n",
    "    \"\"\"\n",
    "    # TODO: Implement Function    \n",
    "    x=x_tensor.get_shape().as_list()[1]    \n",
    "    y=x_tensor.get_shape().as_list()[2]\n",
    "    z=x_tensor.get_shape().as_list()[3]\n",
    "    y_tensor = tf.reshape(x_tensor,(-1,x*y*z))    \n",
    "    return y_tensor\n",
    "\n",
    "\n",
    "\"\"\"\n",
    "DON'T MODIFY ANYTHING IN THIS CELL THAT IS BELOW THIS LINE\n",
    "\"\"\"\n",
    "tests.test_flatten(flatten)"
   ]
  },
  {
   "cell_type": "markdown",
   "metadata": {},
   "source": [
    "### Fully-Connected Layer\n",
    "Implement the `fully_conn` function to apply a fully connected layer to `x_tensor` with the shape (*Batch Size*, *num_outputs*). Shortcut option: you can use classes from the [TensorFlow Layers](https://www.tensorflow.org/api_docs/python/tf/layers) or [TensorFlow Layers (contrib)](https://www.tensorflow.org/api_guides/python/contrib.layers) packages for this layer. For more of a challenge, only use other TensorFlow packages."
   ]
  },
  {
   "cell_type": "code",
   "execution_count": 5,
   "metadata": {
    "collapsed": false
   },
   "outputs": [
    {
     "name": "stdout",
     "output_type": "stream",
     "text": [
      "Tests Passed\n"
     ]
    }
   ],
   "source": [
    "def fully_conn(x_tensor, num_outputs):\n",
    "    \"\"\"\n",
    "    Apply a fully connected layer to x_tensor using weight and bias\n",
    "    : x_tensor: A 2-D tensor where the first dimension is batch size.\n",
    "    : num_outputs: The number of output that the new tensor should be.\n",
    "    : return: A 2-D tensor where the second dimension is num_outputs.\n",
    "    \"\"\"\n",
    "    # TODO: Implement Function\n",
    "    shape = x_tensor.get_shape().as_list()[1]\n",
    "    weight = tf.Variable(tf.truncated_normal((shape,num_outputs ),stddev=0.01))\n",
    "    bias = tf.Variable(tf.zeros(num_outputs))\n",
    "    y_tensor=tf.matmul(x_tensor,weight)\n",
    "    y_tensor=tf.nn.bias_add(y_tensor,bias)\n",
    "    y_tensor=tf.nn.relu(y_tensor)\n",
    "    return y_tensor\n",
    "\n",
    "\n",
    "\"\"\"\n",
    "DON'T MODIFY ANYTHING IN THIS CELL THAT IS BELOW THIS LINE\n",
    "\"\"\"\n",
    "tests.test_fully_conn(fully_conn)"
   ]
  },
  {
   "cell_type": "markdown",
   "metadata": {},
   "source": [
    "### Output Layer\n",
    "Implement the `output` function to apply a fully connected layer to `x_tensor` with the shape (*Batch Size*, *num_outputs*). Shortcut option: you can use classes from the [TensorFlow Layers](https://www.tensorflow.org/api_docs/python/tf/layers) or [TensorFlow Layers (contrib)](https://www.tensorflow.org/api_guides/python/contrib.layers) packages for this layer. For more of a challenge, only use other TensorFlow packages.\n",
    "\n",
    "**Note:** Activation, softmax, or cross entropy should **not** be applied to this."
   ]
  },
  {
   "cell_type": "code",
   "execution_count": 6,
   "metadata": {
    "collapsed": false
   },
   "outputs": [
    {
     "name": "stdout",
     "output_type": "stream",
     "text": [
      "Tests Passed\n"
     ]
    }
   ],
   "source": [
    "def output(x_tensor, num_outputs):\n",
    "    \"\"\"\n",
    "    Apply a output layer to x_tensor using weight and bias\n",
    "    : x_tensor: A 2-D tensor where the first dimension is batch size.\n",
    "    : num_outputs: The number of output that the new tensor should be.\n",
    "    : return: A 2-D tensor where the second dimension is num_outputs.\n",
    "    \"\"\"\n",
    "    # TODO: Implement Function\n",
    "    shape = x_tensor.get_shape().as_list()[1]\n",
    "    weight = tf.Variable(tf.truncated_normal((shape,num_outputs)))\n",
    "    bias = tf.Variable(tf.zeros(num_outputs))\n",
    "    y_tensor=tf.matmul(x_tensor,weight)\n",
    "    y_tensor=tf.nn.bias_add(y_tensor,bias)\n",
    "    \n",
    "    return y_tensor\n",
    "\n",
    "\n",
    "\"\"\"\n",
    "DON'T MODIFY ANYTHING IN THIS CELL THAT IS BELOW THIS LINE\n",
    "\"\"\"\n",
    "tests.test_output(output)"
   ]
  },
  {
   "cell_type": "markdown",
   "metadata": {},
   "source": [
    "### Create Convolutional Model\n",
    "Implement the function `conv_net` to create a convolutional neural network model. The function takes in a batch of images, `x`, and outputs logits.  Use the layers you created above to create this model:\n",
    "\n",
    "* Apply 1, 2, or 3 Convolution and Max Pool layers\n",
    "* Apply a Flatten Layer\n",
    "* Apply 1, 2, or 3 Fully Connected Layers\n",
    "* Apply an Output Layer\n",
    "* Return the output\n",
    "* Apply [TensorFlow's Dropout](https://www.tensorflow.org/api_docs/python/tf/nn/dropout) to one or more layers in the model using `keep_prob`. "
   ]
  },
  {
   "cell_type": "code",
   "execution_count": 50,
   "metadata": {
    "collapsed": false
   },
   "outputs": [
    {
     "name": "stdout",
     "output_type": "stream",
     "text": [
      "Neural Network Built!\n"
     ]
    }
   ],
   "source": [
    "def conv_net(x, keep_prob):\n",
    "    \"\"\"\n",
    "    Create a convolutional neural network model\n",
    "    : x: Placeholder tensor that holds image data.\n",
    "    : keep_prob: Placeholder tensor that hold dropout keep probability.\n",
    "    : return: Tensor that represents logits\n",
    "    \"\"\"\n",
    "    # TODO: Apply 1, 2, or 3 Convolution and Max Pool layers\n",
    "    #    Play around with different number of outputs, kernel size and stride\n",
    "    # Function Definition from Above:\n",
    "    #    conv2d_maxpool(x_tensor, conv_num_outputs, conv_ksize, conv_strides, pool_ksize, pool_strides)\n",
    "    tensor = conv2d_maxpool(x,30,(2,2),(1,1),(2,2),(1,1))\n",
    "    tensor = tf.nn.dropout(tensor ,keep_prob )\n",
    "    tensor = conv2d_maxpool(tensor,24,(2,2),(1,1),(2,2),(1,1))\n",
    "#     tensor = conv2d_maxpool(tensor,24,(2,2),(1,1),(2,2),(1,1))\n",
    "    # TODO: Apply a Flatten Layer\n",
    "    # Function Definition from Above:\n",
    "    #   flatten(x_tensor)\n",
    "    tensor = flatten(tensor)\n",
    "\n",
    "    # TODO: Apply 1, 2, or 3 Fully Connected Layers\n",
    "    #    Play around with different number of outputs\n",
    "    # Function Definition from Above:\n",
    "    #   fully_conn(x_tensor, num_outputs)\n",
    "    tensor = fully_conn(tensor,128)\n",
    "    tensor = tf.nn.dropout(tensor ,keep_prob )\n",
    "    tensor = fully_conn(tensor,64)\n",
    "    tensor = tf.nn.dropout(tensor ,keep_prob )\n",
    "    tensor = fully_conn(tensor,32)\n",
    "    # TODO: Apply an Output Layer\n",
    "    #    Set this to the number of classes\n",
    "    # Function Definition from Above:\n",
    "    #   output(x_tensor, num_outputs)\n",
    "    y_tensor = output(tensor,10)    \n",
    "    # TODO: return output\n",
    "    return y_tensor\n",
    "\n",
    "\n",
    "\"\"\"\n",
    "DON'T MODIFY ANYTHING IN THIS CELL THAT IS BELOW THIS LINE\n",
    "\"\"\"\n",
    "\n",
    "##############################\n",
    "## Build the Neural Network ##\n",
    "##############################\n",
    "\n",
    "# Remove previous weights, bias, inputs, etc..\n",
    "tf.reset_default_graph()\n",
    "\n",
    "# Inputs\n",
    "x = neural_net_image_input((32, 32, 3))\n",
    "y = neural_net_label_input(10)\n",
    "keep_prob = neural_net_keep_prob_input()\n",
    "\n",
    "# Model\n",
    "logits = conv_net(x, keep_prob)\n",
    "\n",
    "# Name logits Tensor, so that is can be loaded from disk after training\n",
    "logits = tf.identity(logits, name='logits')\n",
    "\n",
    "# Loss and Optimizer\n",
    "cost = tf.reduce_mean(tf.nn.softmax_cross_entropy_with_logits(logits=logits, labels=y))\n",
    "optimizer = tf.train.AdamOptimizer().minimize(cost)\n",
    "\n",
    "# Accuracy\n",
    "correct_pred = tf.equal(tf.argmax(logits, 1), tf.argmax(y, 1))\n",
    "accuracy = tf.reduce_mean(tf.cast(correct_pred, tf.float32), name='accuracy')\n",
    "\n",
    "tests.test_conv_net(conv_net)"
   ]
  },
  {
   "cell_type": "markdown",
   "metadata": {},
   "source": [
    "## Train the Neural Network\n",
    "### Single Optimization\n",
    "Implement the function `train_neural_network` to do a single optimization.  The optimization should use `optimizer` to optimize in `session` with a `feed_dict` of the following:\n",
    "* `x` for image input\n",
    "* `y` for labels\n",
    "* `keep_prob` for keep probability for dropout\n",
    "\n",
    "This function will be called for each batch, so `tf.global_variables_initializer()` has already been called.\n",
    "\n",
    "Note: Nothing needs to be returned. This function is only optimizing the neural network."
   ]
  },
  {
   "cell_type": "code",
   "execution_count": 8,
   "metadata": {
    "collapsed": false
   },
   "outputs": [
    {
     "name": "stdout",
     "output_type": "stream",
     "text": [
      "Tests Passed\n"
     ]
    }
   ],
   "source": [
    "def train_neural_network(session, optimizer, keep_probability, feature_batch, label_batch):\n",
    "    \"\"\"\n",
    "    Optimize the session on a batch of images and labels\n",
    "    : session: Current TensorFlow session\n",
    "    : optimizer: TensorFlow optimizer function\n",
    "    : keep_probability: keep probability\n",
    "    : feature_batch: Batch of Numpy image data\n",
    "    : label_batch: Batch of Numpy label data\n",
    "    \"\"\"\n",
    "    # TODO: Implement Function    \n",
    "    session.run(optimizer,feed_dict={keep_prob:keep_probability , x:feature_batch , y:label_batch})\n",
    "    pass\n",
    "\n",
    "\n",
    "\"\"\"\n",
    "DON'T MODIFY ANYTHING IN THIS CELL THAT IS BELOW THIS LINE\n",
    "\"\"\"\n",
    "tests.test_train_nn(train_neural_network)"
   ]
  },
  {
   "cell_type": "markdown",
   "metadata": {},
   "source": [
    "### Show Stats\n",
    "Implement the function `print_stats` to print loss and validation accuracy.  Use the global variables `valid_features` and `valid_labels` to calculate validation accuracy.  Use a keep probability of `1.0` to calculate the loss and validation accuracy."
   ]
  },
  {
   "cell_type": "code",
   "execution_count": 9,
   "metadata": {
    "collapsed": false
   },
   "outputs": [],
   "source": [
    "def print_stats(session, feature_batch, label_batch, cost, accuracy):\n",
    "    \"\"\"\n",
    "    Print information about loss and validation accuracy\n",
    "    : session: Current TensorFlow session\n",
    "    : feature_batch: Batch of Numpy image data\n",
    "    : label_batch: Batch of Numpy label data\n",
    "    : cost: TensorFlow cost function\n",
    "    : accuracy: TensorFlow accuracy function\n",
    "    \"\"\"\n",
    "    # TODO: Implement Function\n",
    "    # Model\n",
    "    keep_probability = 1\n",
    "    acc_out = session.run(accuracy,feed_dict={x:valid_features,y:valid_labels,keep_prob:keep_probability})\n",
    "    cost_out = session.run(cost,feed_dict={x:feature_batch,y:label_batch,keep_prob:keep_probability})\n",
    "\n",
    "    print ('accuracy : ',acc_out,' , cost:',cost_out)\n",
    "    pass"
   ]
  },
  {
   "cell_type": "markdown",
   "metadata": {},
   "source": [
    "### Hyperparameters\n",
    "Tune the following parameters:\n",
    "* Set `epochs` to the number of iterations until the network stops learning or start overfitting\n",
    "* Set `batch_size` to the highest number that your machine has memory for.  Most people set them to common sizes of memory:\n",
    " * 64\n",
    " * 128\n",
    " * 256\n",
    " * ...\n",
    "* Set `keep_probability` to the probability of keeping a node using dropout"
   ]
  },
  {
   "cell_type": "code",
   "execution_count": 31,
   "metadata": {
    "collapsed": true
   },
   "outputs": [],
   "source": [
    "# TODO: Tune Parameters\n",
    "epochs = 50\n",
    "batch_size = 128\n",
    "keep_probability = 0.8"
   ]
  },
  {
   "cell_type": "markdown",
   "metadata": {},
   "source": [
    "### Train on a Single CIFAR-10 Batch\n",
    "Instead of training the neural network on all the CIFAR-10 batches of data, let's use a single batch. This should save time while you iterate on the model to get a better accuracy.  Once the final validation accuracy is 50% or greater, run the model on all the data in the next section."
   ]
  },
  {
   "cell_type": "code",
   "execution_count": 51,
   "metadata": {
    "collapsed": false
   },
   "outputs": [
    {
     "name": "stdout",
     "output_type": "stream",
     "text": [
      "Checking the Training on a Single Batch...\n",
      "Epoch  1, CIFAR-10 Batch 1:  accuracy :  0.2382  , cost: 2.24343\n",
      "Epoch  2, CIFAR-10 Batch 1:  accuracy :  0.2622  , cost: 2.18726\n",
      "Epoch  3, CIFAR-10 Batch 1:  accuracy :  0.2812  , cost: 2.16128\n",
      "Epoch  4, CIFAR-10 Batch 1:  accuracy :  0.3184  , cost: 2.1291\n",
      "Epoch  5, CIFAR-10 Batch 1:  accuracy :  0.3484  , cost: 1.96007\n",
      "Epoch  6, CIFAR-10 Batch 1:  accuracy :  0.3756  , cost: 1.88091\n",
      "Epoch  7, CIFAR-10 Batch 1:  accuracy :  0.3758  , cost: 1.80212\n",
      "Epoch  8, CIFAR-10 Batch 1:  accuracy :  0.3982  , cost: 1.71106\n",
      "Epoch  9, CIFAR-10 Batch 1:  accuracy :  0.4052  , cost: 1.65576\n",
      "Epoch 10, CIFAR-10 Batch 1:  accuracy :  0.4086  , cost: 1.60215\n",
      "Epoch 11, CIFAR-10 Batch 1:  accuracy :  0.427  , cost: 1.50053\n",
      "Epoch 12, CIFAR-10 Batch 1:  accuracy :  0.4268  , cost: 1.48472\n",
      "Epoch 13, CIFAR-10 Batch 1:  accuracy :  0.4348  , cost: 1.41955\n",
      "Epoch 14, CIFAR-10 Batch 1:  accuracy :  0.4414  , cost: 1.35559\n",
      "Epoch 15, CIFAR-10 Batch 1:  accuracy :  0.4412  , cost: 1.35278\n",
      "Epoch 16, CIFAR-10 Batch 1:  accuracy :  0.4556  , cost: 1.22339\n",
      "Epoch 17, CIFAR-10 Batch 1:  accuracy :  0.4506  , cost: 1.21063\n",
      "Epoch 18, CIFAR-10 Batch 1:  accuracy :  0.4666  , cost: 1.10217\n",
      "Epoch 19, CIFAR-10 Batch 1:  accuracy :  0.4598  , cost: 1.11448\n",
      "Epoch 20, CIFAR-10 Batch 1:  accuracy :  0.4764  , cost: 1.06842\n",
      "Epoch 21, CIFAR-10 Batch 1:  accuracy :  0.4696  , cost: 1.01434\n",
      "Epoch 22, CIFAR-10 Batch 1:  accuracy :  0.4812  , cost: 0.926782\n",
      "Epoch 23, CIFAR-10 Batch 1:  accuracy :  0.4906  , cost: 0.877585\n",
      "Epoch 24, CIFAR-10 Batch 1:  accuracy :  0.4798  , cost: 0.788774\n",
      "Epoch 25, CIFAR-10 Batch 1:  accuracy :  0.4894  , cost: 0.752826\n",
      "Epoch 26, CIFAR-10 Batch 1:  accuracy :  0.484  , cost: 0.682753\n",
      "Epoch 27, CIFAR-10 Batch 1:  accuracy :  0.4914  , cost: 0.693326\n",
      "Epoch 28, CIFAR-10 Batch 1:  accuracy :  0.5004  , cost: 0.628766\n",
      "Epoch 29, CIFAR-10 Batch 1:  accuracy :  0.503  , cost: 0.57348\n",
      "Epoch 30, CIFAR-10 Batch 1:  accuracy :  0.4816  , cost: 0.61829\n",
      "Epoch 31, CIFAR-10 Batch 1:  accuracy :  0.5044  , cost: 0.590241\n",
      "Epoch 32, CIFAR-10 Batch 1:  accuracy :  0.5076  , cost: 0.535545\n",
      "Epoch 33, CIFAR-10 Batch 1:  accuracy :  0.5018  , cost: 0.502695\n",
      "Epoch 34, CIFAR-10 Batch 1:  accuracy :  0.5156  , cost: 0.488367\n",
      "Epoch 35, CIFAR-10 Batch 1:  accuracy :  0.51  , cost: 0.459596\n",
      "Epoch 36, CIFAR-10 Batch 1:  accuracy :  0.506  , cost: 0.461938\n",
      "Epoch 37, CIFAR-10 Batch 1:  accuracy :  0.5114  , cost: 0.46231\n",
      "Epoch 38, CIFAR-10 Batch 1:  accuracy :  0.514  , cost: 0.415259\n",
      "Epoch 39, CIFAR-10 Batch 1:  accuracy :  0.5118  , cost: 0.427709\n",
      "Epoch 40, CIFAR-10 Batch 1:  accuracy :  0.5082  , cost: 0.419141\n",
      "Epoch 41, CIFAR-10 Batch 1:  accuracy :  0.5024  , cost: 0.415671\n",
      "Epoch 42, CIFAR-10 Batch 1:  accuracy :  0.4982  , cost: 0.37477\n",
      "Epoch 43, CIFAR-10 Batch 1:  accuracy :  0.5046  , cost: 0.33799\n",
      "Epoch 44, CIFAR-10 Batch 1:  accuracy :  0.5068  , cost: 0.345274\n",
      "Epoch 45, CIFAR-10 Batch 1:  accuracy :  0.5066  , cost: 0.3691\n",
      "Epoch 46, CIFAR-10 Batch 1:  accuracy :  0.5156  , cost: 0.320222\n",
      "Epoch 47, CIFAR-10 Batch 1:  accuracy :  0.5026  , cost: 0.349836\n",
      "Epoch 48, CIFAR-10 Batch 1:  accuracy :  0.509  , cost: 0.336984\n",
      "Epoch 49, CIFAR-10 Batch 1:  accuracy :  0.5024  , cost: 0.288357\n",
      "Epoch 50, CIFAR-10 Batch 1:  accuracy :  0.4904  , cost: 0.286072\n"
     ]
    }
   ],
   "source": [
    "\"\"\"\n",
    "DON'T MODIFY ANYTHING IN THIS CELL\n",
    "\"\"\"\n",
    "print('Checking the Training on a Single Batch...')\n",
    "with tf.Session() as sess:\n",
    "    # Initializing the variables\n",
    "    sess.run(tf.global_variables_initializer())\n",
    "    \n",
    "    # Training cycle\n",
    "    for epoch in range(epochs):\n",
    "        batch_i = 1\n",
    "        for batch_features, batch_labels in helper.load_preprocess_training_batch(batch_i, batch_size):\n",
    "            train_neural_network(sess, optimizer, keep_probability, batch_features, batch_labels)\n",
    "        print('Epoch {:>2}, CIFAR-10 Batch {}:  '.format(epoch + 1, batch_i), end='')\n",
    "        print_stats(sess, batch_features, batch_labels, cost, accuracy)"
   ]
  },
  {
   "cell_type": "markdown",
   "metadata": {},
   "source": [
    "### Fully Train the Model\n",
    "Now that you got a good accuracy with a single CIFAR-10 batch, try it with all five batches."
   ]
  },
  {
   "cell_type": "code",
   "execution_count": 52,
   "metadata": {
    "collapsed": false
   },
   "outputs": [
    {
     "name": "stdout",
     "output_type": "stream",
     "text": [
      "Training...\n",
      "Epoch  1, CIFAR-10 Batch 1:  accuracy :  0.2036  , cost: 2.2012\n",
      "Epoch  1, CIFAR-10 Batch 2:  accuracy :  0.268  , cost: 2.17319\n",
      "Epoch  1, CIFAR-10 Batch 3:  accuracy :  0.2726  , cost: 1.78991\n",
      "Epoch  1, CIFAR-10 Batch 4:  accuracy :  0.296  , cost: 1.83433\n",
      "Epoch  1, CIFAR-10 Batch 5:  accuracy :  0.3122  , cost: 1.91778\n",
      "Epoch  2, CIFAR-10 Batch 1:  accuracy :  0.3684  , cost: 1.95823\n",
      "Epoch  2, CIFAR-10 Batch 2:  accuracy :  0.3786  , cost: 1.57252\n",
      "Epoch  2, CIFAR-10 Batch 3:  accuracy :  0.3796  , cost: 1.50753\n",
      "Epoch  2, CIFAR-10 Batch 4:  accuracy :  0.397  , cost: 1.50455\n",
      "Epoch  2, CIFAR-10 Batch 5:  accuracy :  0.425  , cost: 1.73896\n",
      "Epoch  3, CIFAR-10 Batch 1:  accuracy :  0.4428  , cost: 1.69389\n",
      "Epoch  3, CIFAR-10 Batch 2:  accuracy :  0.4494  , cost: 1.30955\n",
      "Epoch  3, CIFAR-10 Batch 3:  accuracy :  0.4556  , cost: 1.29946\n",
      "Epoch  3, CIFAR-10 Batch 4:  accuracy :  0.4606  , cost: 1.39504\n",
      "Epoch  3, CIFAR-10 Batch 5:  accuracy :  0.4702  , cost: 1.58915\n",
      "Epoch  4, CIFAR-10 Batch 1:  accuracy :  0.4712  , cost: 1.57017\n",
      "Epoch  4, CIFAR-10 Batch 2:  accuracy :  0.497  , cost: 1.20912\n",
      "Epoch  4, CIFAR-10 Batch 3:  accuracy :  0.493  , cost: 1.22032\n",
      "Epoch  4, CIFAR-10 Batch 4:  accuracy :  0.4962  , cost: 1.22526\n",
      "Epoch  4, CIFAR-10 Batch 5:  accuracy :  0.5054  , cost: 1.3819\n",
      "Epoch  5, CIFAR-10 Batch 1:  accuracy :  0.5236  , cost: 1.41788\n",
      "Epoch  5, CIFAR-10 Batch 2:  accuracy :  0.5216  , cost: 1.18145\n",
      "Epoch  5, CIFAR-10 Batch 3:  accuracy :  0.5106  , cost: 1.13621\n",
      "Epoch  5, CIFAR-10 Batch 4:  accuracy :  0.5226  , cost: 1.19287\n",
      "Epoch  5, CIFAR-10 Batch 5:  accuracy :  0.5398  , cost: 1.21057\n",
      "Epoch  6, CIFAR-10 Batch 1:  accuracy :  0.5422  , cost: 1.2633\n",
      "Epoch  6, CIFAR-10 Batch 2:  accuracy :  0.5502  , cost: 1.02976\n",
      "Epoch  6, CIFAR-10 Batch 3:  accuracy :  0.5442  , cost: 0.970212\n",
      "Epoch  6, CIFAR-10 Batch 4:  accuracy :  0.5498  , cost: 1.04076\n",
      "Epoch  6, CIFAR-10 Batch 5:  accuracy :  0.5418  , cost: 1.16875\n",
      "Epoch  7, CIFAR-10 Batch 1:  accuracy :  0.5644  , cost: 1.1986\n",
      "Epoch  7, CIFAR-10 Batch 2:  accuracy :  0.5628  , cost: 0.955163\n",
      "Epoch  7, CIFAR-10 Batch 3:  accuracy :  0.567  , cost: 0.885022\n",
      "Epoch  7, CIFAR-10 Batch 4:  accuracy :  0.5566  , cost: 1.0439\n",
      "Epoch  7, CIFAR-10 Batch 5:  accuracy :  0.5726  , cost: 1.07643\n",
      "Epoch  8, CIFAR-10 Batch 1:  accuracy :  0.5826  , cost: 1.15088\n",
      "Epoch  8, CIFAR-10 Batch 2:  accuracy :  0.581  , cost: 0.838044\n",
      "Epoch  8, CIFAR-10 Batch 3:  accuracy :  0.5666  , cost: 0.834854\n",
      "Epoch  8, CIFAR-10 Batch 4:  accuracy :  0.5794  , cost: 0.935228\n",
      "Epoch  8, CIFAR-10 Batch 5:  accuracy :  0.5734  , cost: 0.996668\n",
      "Epoch  9, CIFAR-10 Batch 1:  accuracy :  0.5952  , cost: 1.07258\n",
      "Epoch  9, CIFAR-10 Batch 2:  accuracy :  0.5944  , cost: 0.794794\n",
      "Epoch  9, CIFAR-10 Batch 3:  accuracy :  0.588  , cost: 0.689344\n",
      "Epoch  9, CIFAR-10 Batch 4:  accuracy :  0.594  , cost: 0.902113\n",
      "Epoch  9, CIFAR-10 Batch 5:  accuracy :  0.5874  , cost: 0.870275\n",
      "Epoch 10, CIFAR-10 Batch 1:  accuracy :  0.604  , cost: 0.898535\n",
      "Epoch 10, CIFAR-10 Batch 2:  accuracy :  0.6094  , cost: 0.720799\n",
      "Epoch 10, CIFAR-10 Batch 3:  accuracy :  0.5956  , cost: 0.672985\n",
      "Epoch 10, CIFAR-10 Batch 4:  accuracy :  0.6026  , cost: 0.85173\n",
      "Epoch 10, CIFAR-10 Batch 5:  accuracy :  0.5966  , cost: 0.761323\n",
      "Epoch 11, CIFAR-10 Batch 1:  accuracy :  0.6096  , cost: 0.900243\n",
      "Epoch 11, CIFAR-10 Batch 2:  accuracy :  0.6066  , cost: 0.669731\n",
      "Epoch 11, CIFAR-10 Batch 3:  accuracy :  0.5924  , cost: 0.562189\n",
      "Epoch 11, CIFAR-10 Batch 4:  accuracy :  0.602  , cost: 0.767308\n",
      "Epoch 11, CIFAR-10 Batch 5:  accuracy :  0.5956  , cost: 0.726951\n",
      "Epoch 12, CIFAR-10 Batch 1:  accuracy :  0.6192  , cost: 0.793126\n",
      "Epoch 12, CIFAR-10 Batch 2:  accuracy :  0.611  , cost: 0.586172\n",
      "Epoch 12, CIFAR-10 Batch 3:  accuracy :  0.6082  , cost: 0.543858\n",
      "Epoch 12, CIFAR-10 Batch 4:  accuracy :  0.6104  , cost: 0.719017\n",
      "Epoch 12, CIFAR-10 Batch 5:  accuracy :  0.6164  , cost: 0.710948\n",
      "Epoch 13, CIFAR-10 Batch 1:  accuracy :  0.612  , cost: 0.730413\n",
      "Epoch 13, CIFAR-10 Batch 2:  accuracy :  0.623  , cost: 0.539606\n",
      "Epoch 13, CIFAR-10 Batch 3:  accuracy :  0.6008  , cost: 0.486674\n",
      "Epoch 13, CIFAR-10 Batch 4:  accuracy :  0.6234  , cost: 0.64499\n",
      "Epoch 13, CIFAR-10 Batch 5:  accuracy :  0.6186  , cost: 0.63733\n",
      "Epoch 14, CIFAR-10 Batch 1:  accuracy :  0.6206  , cost: 0.696855\n",
      "Epoch 14, CIFAR-10 Batch 2:  accuracy :  0.6248  , cost: 0.522709\n",
      "Epoch 14, CIFAR-10 Batch 3:  accuracy :  0.61  , cost: 0.490934\n",
      "Epoch 14, CIFAR-10 Batch 4:  accuracy :  0.6308  , cost: 0.567296\n",
      "Epoch 14, CIFAR-10 Batch 5:  accuracy :  0.6202  , cost: 0.578589\n",
      "Epoch 15, CIFAR-10 Batch 1:  accuracy :  0.6298  , cost: 0.683723\n",
      "Epoch 15, CIFAR-10 Batch 2:  accuracy :  0.6296  , cost: 0.467432\n",
      "Epoch 15, CIFAR-10 Batch 3:  accuracy :  0.617  , cost: 0.425091\n",
      "Epoch 15, CIFAR-10 Batch 4:  accuracy :  0.6324  , cost: 0.549726\n",
      "Epoch 15, CIFAR-10 Batch 5:  accuracy :  0.6182  , cost: 0.566748\n",
      "Epoch 16, CIFAR-10 Batch 1:  accuracy :  0.6318  , cost: 0.644986\n",
      "Epoch 16, CIFAR-10 Batch 2:  accuracy :  0.6344  , cost: 0.434403\n",
      "Epoch 16, CIFAR-10 Batch 3:  accuracy :  0.6108  , cost: 0.47119\n",
      "Epoch 16, CIFAR-10 Batch 4:  accuracy :  0.634  , cost: 0.491207\n",
      "Epoch 16, CIFAR-10 Batch 5:  accuracy :  0.6314  , cost: 0.500657\n",
      "Epoch 17, CIFAR-10 Batch 1:  accuracy :  0.6386  , cost: 0.646785\n",
      "Epoch 17, CIFAR-10 Batch 2:  accuracy :  0.6336  , cost: 0.427916\n",
      "Epoch 17, CIFAR-10 Batch 3:  accuracy :  0.61  , cost: 0.424827\n",
      "Epoch 17, CIFAR-10 Batch 4:  accuracy :  0.6362  , cost: 0.455503\n",
      "Epoch 17, CIFAR-10 Batch 5:  accuracy :  0.6318  , cost: 0.493461\n",
      "Epoch 18, CIFAR-10 Batch 1:  accuracy :  0.6418  , cost: 0.625442\n",
      "Epoch 18, CIFAR-10 Batch 2:  accuracy :  0.6282  , cost: 0.463495\n",
      "Epoch 18, CIFAR-10 Batch 3:  accuracy :  0.6218  , cost: 0.417366\n",
      "Epoch 18, CIFAR-10 Batch 4:  accuracy :  0.6316  , cost: 0.528503\n",
      "Epoch 18, CIFAR-10 Batch 5:  accuracy :  0.6318  , cost: 0.488443\n",
      "Epoch 19, CIFAR-10 Batch 1:  accuracy :  0.644  , cost: 0.594948\n",
      "Epoch 19, CIFAR-10 Batch 2:  accuracy :  0.6322  , cost: 0.39446\n",
      "Epoch 19, CIFAR-10 Batch 3:  accuracy :  0.6218  , cost: 0.418948\n",
      "Epoch 19, CIFAR-10 Batch 4:  accuracy :  0.627  , cost: 0.439871\n",
      "Epoch 19, CIFAR-10 Batch 5:  accuracy :  0.631  , cost: 0.399282\n",
      "Epoch 20, CIFAR-10 Batch 1:  accuracy :  0.637  , cost: 0.56567\n",
      "Epoch 20, CIFAR-10 Batch 2:  accuracy :  0.6438  , cost: 0.406311\n",
      "Epoch 20, CIFAR-10 Batch 3:  accuracy :  0.6236  , cost: 0.34578\n",
      "Epoch 20, CIFAR-10 Batch 4:  accuracy :  0.6378  , cost: 0.383492\n",
      "Epoch 20, CIFAR-10 Batch 5:  accuracy :  0.6178  , cost: 0.420354\n",
      "Epoch 21, CIFAR-10 Batch 1:  accuracy :  0.6458  , cost: 0.512708\n",
      "Epoch 21, CIFAR-10 Batch 2:  accuracy :  0.6474  , cost: 0.348768\n",
      "Epoch 21, CIFAR-10 Batch 3:  accuracy :  0.6328  , cost: 0.36964\n",
      "Epoch 21, CIFAR-10 Batch 4:  accuracy :  0.6376  , cost: 0.381507\n",
      "Epoch 21, CIFAR-10 Batch 5:  accuracy :  0.6296  , cost: 0.384473\n",
      "Epoch 22, CIFAR-10 Batch 1:  accuracy :  0.6388  , cost: 0.4604\n",
      "Epoch 22, CIFAR-10 Batch 2:  accuracy :  0.6444  , cost: 0.347581\n",
      "Epoch 22, CIFAR-10 Batch 3:  accuracy :  0.6306  , cost: 0.343083\n",
      "Epoch 22, CIFAR-10 Batch 4:  accuracy :  0.6092  , cost: 0.328792\n",
      "Epoch 22, CIFAR-10 Batch 5:  accuracy :  0.6232  , cost: 0.362014\n",
      "Epoch 23, CIFAR-10 Batch 1:  accuracy :  0.6382  , cost: 0.452835\n",
      "Epoch 23, CIFAR-10 Batch 2:  accuracy :  0.6314  , cost: 0.343079\n",
      "Epoch 23, CIFAR-10 Batch 3:  accuracy :  0.6314  , cost: 0.331102\n",
      "Epoch 23, CIFAR-10 Batch 4:  accuracy :  0.6154  , cost: 0.361082\n",
      "Epoch 23, CIFAR-10 Batch 5:  accuracy :  0.6406  , cost: 0.32859\n",
      "Epoch 24, CIFAR-10 Batch 1:  accuracy :  0.636  , cost: 0.446546\n",
      "Epoch 24, CIFAR-10 Batch 2:  accuracy :  0.641  , cost: 0.28988\n",
      "Epoch 24, CIFAR-10 Batch 3:  accuracy :  0.6364  , cost: 0.300566\n",
      "Epoch 24, CIFAR-10 Batch 4:  accuracy :  0.628  , cost: 0.281523\n",
      "Epoch 24, CIFAR-10 Batch 5:  accuracy :  0.6332  , cost: 0.298979\n",
      "Epoch 25, CIFAR-10 Batch 1:  accuracy :  0.643  , cost: 0.424801\n",
      "Epoch 25, CIFAR-10 Batch 2:  accuracy :  0.6454  , cost: 0.277693\n",
      "Epoch 25, CIFAR-10 Batch 3:  accuracy :  0.631  , cost: 0.287135\n",
      "Epoch 25, CIFAR-10 Batch 4:  accuracy :  0.6316  , cost: 0.285725\n",
      "Epoch 25, CIFAR-10 Batch 5:  accuracy :  0.6308  , cost: 0.265706\n",
      "Epoch 26, CIFAR-10 Batch 1:  accuracy :  0.6314  , cost: 0.40544\n",
      "Epoch 26, CIFAR-10 Batch 2:  accuracy :  0.643  , cost: 0.331899\n",
      "Epoch 26, CIFAR-10 Batch 3:  accuracy :  0.6314  , cost: 0.269985\n",
      "Epoch 26, CIFAR-10 Batch 4:  accuracy :  0.6214  , cost: 0.306406\n",
      "Epoch 26, CIFAR-10 Batch 5:  accuracy :  0.6304  , cost: 0.265621\n",
      "Epoch 27, CIFAR-10 Batch 1:  accuracy :  0.6364  , cost: 0.389156\n",
      "Epoch 27, CIFAR-10 Batch 2:  accuracy :  0.6328  , cost: 0.248392\n",
      "Epoch 27, CIFAR-10 Batch 3:  accuracy :  0.6372  , cost: 0.263809\n",
      "Epoch 27, CIFAR-10 Batch 4:  accuracy :  0.623  , cost: 0.307736\n",
      "Epoch 27, CIFAR-10 Batch 5:  accuracy :  0.6236  , cost: 0.253925\n",
      "Epoch 28, CIFAR-10 Batch 1:  accuracy :  0.6314  , cost: 0.399584\n",
      "Epoch 28, CIFAR-10 Batch 2:  accuracy :  0.647  , cost: 0.255015\n",
      "Epoch 28, CIFAR-10 Batch 3:  accuracy :  0.628  , cost: 0.320766\n",
      "Epoch 28, CIFAR-10 Batch 4:  accuracy :  0.632  , cost: 0.247533\n",
      "Epoch 28, CIFAR-10 Batch 5:  accuracy :  0.6322  , cost: 0.222846\n",
      "Epoch 29, CIFAR-10 Batch 1:  accuracy :  0.6304  , cost: 0.379808\n",
      "Epoch 29, CIFAR-10 Batch 2:  accuracy :  0.6506  , cost: 0.28297\n",
      "Epoch 29, CIFAR-10 Batch 3:  accuracy :  0.623  , cost: 0.275742\n",
      "Epoch 29, CIFAR-10 Batch 4:  accuracy :  0.6346  , cost: 0.274986\n",
      "Epoch 29, CIFAR-10 Batch 5:  accuracy :  0.6322  , cost: 0.224195\n",
      "Epoch 30, CIFAR-10 Batch 1:  accuracy :  0.6272  , cost: 0.355773\n",
      "Epoch 30, CIFAR-10 Batch 2:  accuracy :  0.6368  , cost: 0.254555\n",
      "Epoch 30, CIFAR-10 Batch 3:  accuracy :  0.6298  , cost: 0.274497\n",
      "Epoch 30, CIFAR-10 Batch 4:  accuracy :  0.633  , cost: 0.254121\n",
      "Epoch 30, CIFAR-10 Batch 5:  accuracy :  0.6266  , cost: 0.197643\n",
      "Epoch 31, CIFAR-10 Batch 1:  accuracy :  0.6312  , cost: 0.35479\n",
      "Epoch 31, CIFAR-10 Batch 2:  accuracy :  0.6342  , cost: 0.229106\n",
      "Epoch 31, CIFAR-10 Batch 3:  accuracy :  0.6294  , cost: 0.250919\n",
      "Epoch 31, CIFAR-10 Batch 4:  accuracy :  0.6274  , cost: 0.242549\n",
      "Epoch 31, CIFAR-10 Batch 5:  accuracy :  0.6356  , cost: 0.190899\n",
      "Epoch 32, CIFAR-10 Batch 1:  accuracy :  0.6272  , cost: 0.357309\n",
      "Epoch 32, CIFAR-10 Batch 2:  accuracy :  0.6386  , cost: 0.230079\n",
      "Epoch 32, CIFAR-10 Batch 3:  accuracy :  0.624  , cost: 0.212452\n",
      "Epoch 32, CIFAR-10 Batch 4:  accuracy :  0.6268  , cost: 0.219098\n",
      "Epoch 32, CIFAR-10 Batch 5:  accuracy :  0.6406  , cost: 0.172011\n",
      "Epoch 33, CIFAR-10 Batch 1:  accuracy :  0.6128  , cost: 0.414379\n",
      "Epoch 33, CIFAR-10 Batch 2:  accuracy :  0.6336  , cost: 0.248973\n",
      "Epoch 33, CIFAR-10 Batch 3:  accuracy :  0.6258  , cost: 0.24327\n",
      "Epoch 33, CIFAR-10 Batch 4:  accuracy :  0.6372  , cost: 0.217747\n",
      "Epoch 33, CIFAR-10 Batch 5:  accuracy :  0.6268  , cost: 0.17886\n",
      "Epoch 34, CIFAR-10 Batch 1:  accuracy :  0.6198  , cost: 0.305793\n",
      "Epoch 34, CIFAR-10 Batch 2:  accuracy :  0.6328  , cost: 0.182543\n",
      "Epoch 34, CIFAR-10 Batch 3:  accuracy :  0.6338  , cost: 0.21433\n",
      "Epoch 34, CIFAR-10 Batch 4:  accuracy :  0.6338  , cost: 0.202156\n",
      "Epoch 34, CIFAR-10 Batch 5:  accuracy :  0.6246  , cost: 0.176033\n",
      "Epoch 35, CIFAR-10 Batch 1:  accuracy :  0.6176  , cost: 0.30903\n",
      "Epoch 35, CIFAR-10 Batch 2:  accuracy :  0.6378  , cost: 0.241994\n",
      "Epoch 35, CIFAR-10 Batch 3:  accuracy :  0.6352  , cost: 0.209012\n",
      "Epoch 35, CIFAR-10 Batch 4:  accuracy :  0.6272  , cost: 0.197058\n",
      "Epoch 35, CIFAR-10 Batch 5:  accuracy :  0.6222  , cost: 0.211474\n",
      "Epoch 36, CIFAR-10 Batch 1:  accuracy :  0.6288  , cost: 0.282908\n",
      "Epoch 36, CIFAR-10 Batch 2:  accuracy :  0.6256  , cost: 0.189778\n",
      "Epoch 36, CIFAR-10 Batch 3:  accuracy :  0.627  , cost: 0.197182\n",
      "Epoch 36, CIFAR-10 Batch 4:  accuracy :  0.6302  , cost: 0.222314\n",
      "Epoch 36, CIFAR-10 Batch 5:  accuracy :  0.6218  , cost: 0.164753\n",
      "Epoch 37, CIFAR-10 Batch 1:  accuracy :  0.6202  , cost: 0.281982\n",
      "Epoch 37, CIFAR-10 Batch 2:  accuracy :  0.6354  , cost: 0.199456\n",
      "Epoch 37, CIFAR-10 Batch 3:  accuracy :  0.6392  , cost: 0.174673\n",
      "Epoch 37, CIFAR-10 Batch 4:  accuracy :  0.6318  , cost: 0.217543\n",
      "Epoch 37, CIFAR-10 Batch 5:  accuracy :  0.6306  , cost: 0.135693\n",
      "Epoch 38, CIFAR-10 Batch 1:  accuracy :  0.6248  , cost: 0.273937\n",
      "Epoch 38, CIFAR-10 Batch 2:  accuracy :  0.6344  , cost: 0.203704\n",
      "Epoch 38, CIFAR-10 Batch 3:  accuracy :  0.6378  , cost: 0.189587\n",
      "Epoch 38, CIFAR-10 Batch 4:  accuracy :  0.6288  , cost: 0.169834\n",
      "Epoch 38, CIFAR-10 Batch 5:  accuracy :  0.6386  , cost: 0.132163\n",
      "Epoch 39, CIFAR-10 Batch 1:  accuracy :  0.6202  , cost: 0.239376\n",
      "Epoch 39, CIFAR-10 Batch 2:  accuracy :  0.6182  , cost: 0.183938\n",
      "Epoch 39, CIFAR-10 Batch 3:  accuracy :  0.6384  , cost: 0.213688\n",
      "Epoch 39, CIFAR-10 Batch 4:  accuracy :  0.6238  , cost: 0.193171\n",
      "Epoch 39, CIFAR-10 Batch 5:  accuracy :  0.6236  , cost: 0.154531\n",
      "Epoch 40, CIFAR-10 Batch 1:  accuracy :  0.63  , cost: 0.255396\n",
      "Epoch 40, CIFAR-10 Batch 2:  accuracy :  0.6288  , cost: 0.190168\n",
      "Epoch 40, CIFAR-10 Batch 3:  accuracy :  0.6438  , cost: 0.156792\n",
      "Epoch 40, CIFAR-10 Batch 4:  accuracy :  0.629  , cost: 0.187573\n",
      "Epoch 40, CIFAR-10 Batch 5:  accuracy :  0.627  , cost: 0.138853\n",
      "Epoch 41, CIFAR-10 Batch 1:  accuracy :  0.6146  , cost: 0.282219\n",
      "Epoch 41, CIFAR-10 Batch 2:  accuracy :  0.6264  , cost: 0.180239\n",
      "Epoch 41, CIFAR-10 Batch 3:  accuracy :  0.6418  , cost: 0.158704\n",
      "Epoch 41, CIFAR-10 Batch 4:  accuracy :  0.6302  , cost: 0.175604\n",
      "Epoch 41, CIFAR-10 Batch 5:  accuracy :  0.639  , cost: 0.125111\n",
      "Epoch 42, CIFAR-10 Batch 1:  accuracy :  0.6248  , cost: 0.23953\n",
      "Epoch 42, CIFAR-10 Batch 2:  accuracy :  0.6302  , cost: 0.187088\n",
      "Epoch 42, CIFAR-10 Batch 3:  accuracy :  0.636  , cost: 0.178159\n",
      "Epoch 42, CIFAR-10 Batch 4:  accuracy :  0.6268  , cost: 0.201109\n",
      "Epoch 42, CIFAR-10 Batch 5:  accuracy :  0.633  , cost: 0.120034\n",
      "Epoch 43, CIFAR-10 Batch 1:  accuracy :  0.6246  , cost: 0.274656\n",
      "Epoch 43, CIFAR-10 Batch 2:  accuracy :  0.6172  , cost: 0.181485\n",
      "Epoch 43, CIFAR-10 Batch 3:  accuracy :  0.637  , cost: 0.140358\n",
      "Epoch 43, CIFAR-10 Batch 4:  accuracy :  0.624  , cost: 0.17295\n",
      "Epoch 43, CIFAR-10 Batch 5:  accuracy :  0.6304  , cost: 0.109212\n",
      "Epoch 44, CIFAR-10 Batch 1:  accuracy :  0.618  , cost: 0.260763\n",
      "Epoch 44, CIFAR-10 Batch 2:  accuracy :  0.6186  , cost: 0.187089\n",
      "Epoch 44, CIFAR-10 Batch 3:  accuracy :  0.633  , cost: 0.122979\n",
      "Epoch 44, CIFAR-10 Batch 4:  accuracy :  0.6302  , cost: 0.202572\n",
      "Epoch 44, CIFAR-10 Batch 5:  accuracy :  0.6308  , cost: 0.140128\n",
      "Epoch 45, CIFAR-10 Batch 1:  accuracy :  0.6228  , cost: 0.24885\n",
      "Epoch 45, CIFAR-10 Batch 2:  accuracy :  0.6252  , cost: 0.148181\n",
      "Epoch 45, CIFAR-10 Batch 3:  accuracy :  0.6366  , cost: 0.129476\n",
      "Epoch 45, CIFAR-10 Batch 4:  accuracy :  0.6246  , cost: 0.163229\n",
      "Epoch 45, CIFAR-10 Batch 5:  accuracy :  0.6212  , cost: 0.142192\n",
      "Epoch 46, CIFAR-10 Batch 1:  accuracy :  0.615  , cost: 0.231867\n",
      "Epoch 46, CIFAR-10 Batch 2:  accuracy :  0.6196  , cost: 0.122843\n",
      "Epoch 46, CIFAR-10 Batch 3:  accuracy :  0.6342  , cost: 0.130599\n",
      "Epoch 46, CIFAR-10 Batch 4:  accuracy :  0.6302  , cost: 0.122075\n",
      "Epoch 46, CIFAR-10 Batch 5:  accuracy :  0.6316  , cost: 0.126499\n",
      "Epoch 47, CIFAR-10 Batch 1:  accuracy :  0.6168  , cost: 0.231906\n",
      "Epoch 47, CIFAR-10 Batch 2:  accuracy :  0.6256  , cost: 0.113744\n",
      "Epoch 47, CIFAR-10 Batch 3:  accuracy :  0.621  , cost: 0.124438\n",
      "Epoch 47, CIFAR-10 Batch 4:  accuracy :  0.6212  , cost: 0.153416\n",
      "Epoch 47, CIFAR-10 Batch 5:  accuracy :  0.63  , cost: 0.116619\n",
      "Epoch 48, CIFAR-10 Batch 1:  accuracy :  0.6238  , cost: 0.213132\n",
      "Epoch 48, CIFAR-10 Batch 2:  accuracy :  0.6168  , cost: 0.118416\n",
      "Epoch 48, CIFAR-10 Batch 3:  accuracy :  0.6324  , cost: 0.123111\n",
      "Epoch 48, CIFAR-10 Batch 4:  accuracy :  0.6316  , cost: 0.139733\n",
      "Epoch 48, CIFAR-10 Batch 5:  accuracy :  0.6274  , cost: 0.111217\n",
      "Epoch 49, CIFAR-10 Batch 1:  accuracy :  0.6246  , cost: 0.20712\n",
      "Epoch 49, CIFAR-10 Batch 2:  accuracy :  0.6156  , cost: 0.120253\n",
      "Epoch 49, CIFAR-10 Batch 3:  accuracy :  0.6308  , cost: 0.108475\n",
      "Epoch 49, CIFAR-10 Batch 4:  accuracy :  0.6294  , cost: 0.124526\n",
      "Epoch 49, CIFAR-10 Batch 5:  accuracy :  0.6204  , cost: 0.109576\n",
      "Epoch 50, CIFAR-10 Batch 1:  accuracy :  0.624  , cost: 0.19363\n",
      "Epoch 50, CIFAR-10 Batch 2:  accuracy :  0.6188  , cost: 0.106021\n",
      "Epoch 50, CIFAR-10 Batch 3:  accuracy :  0.6308  , cost: 0.103476\n",
      "Epoch 50, CIFAR-10 Batch 4:  accuracy :  0.63  , cost: 0.124181\n",
      "Epoch 50, CIFAR-10 Batch 5:  accuracy :  0.6286  , cost: 0.117077\n"
     ]
    }
   ],
   "source": [
    "\"\"\"\n",
    "DON'T MODIFY ANYTHING IN THIS CELL\n",
    "\"\"\"\n",
    "save_model_path = './image_classification'\n",
    "\n",
    "print('Training...')\n",
    "with tf.Session() as sess:\n",
    "    # Initializing the variables\n",
    "    sess.run(tf.global_variables_initializer())\n",
    "    \n",
    "    # Training cycle\n",
    "    for epoch in range(epochs):\n",
    "        # Loop over all batches\n",
    "        n_batches = 5\n",
    "        for batch_i in range(1, n_batches + 1):\n",
    "            for batch_features, batch_labels in helper.load_preprocess_training_batch(batch_i, batch_size):\n",
    "                train_neural_network(sess, optimizer, keep_probability, batch_features, batch_labels)\n",
    "            print('Epoch {:>2}, CIFAR-10 Batch {}:  '.format(epoch + 1, batch_i), end='')\n",
    "            print_stats(sess, batch_features, batch_labels, cost, accuracy)\n",
    "            \n",
    "    # Save Model\n",
    "    saver = tf.train.Saver()\n",
    "    save_path = saver.save(sess, save_model_path)"
   ]
  },
  {
   "cell_type": "markdown",
   "metadata": {},
   "source": [
    "# Checkpoint\n",
    "The model has been saved to disk.\n",
    "## Test Model\n",
    "Test your model against the test dataset.  This will be your final accuracy. You should have an accuracy greater than 50%. If you don't, keep tweaking the model architecture and parameters."
   ]
  },
  {
   "cell_type": "code",
   "execution_count": 53,
   "metadata": {
    "collapsed": false
   },
   "outputs": [
    {
     "name": "stdout",
     "output_type": "stream",
     "text": [
      "Testing Accuracy: 0.6209454113924051\n",
      "\n"
     ]
    },
    {
     "data": {
      "image/png": "[encoded data removed]",
      "text/plain": [
       "<matplotlib.figure.Figure at 0x249f68d5208>"
      ]
     },
     "metadata": {
      "image/png": {
       "height": 319,
       "width": 355
      }
     },
     "output_type": "display_data"
    }
   ],
   "source": [
    "\"\"\"\n",
    "DON'T MODIFY ANYTHING IN THIS CELL\n",
    "\"\"\"\n",
    "%matplotlib inline\n",
    "%config InlineBackend.figure_format = 'retina'\n",
    "\n",
    "import tensorflow as tf\n",
    "import pickle\n",
    "import helper\n",
    "import random\n",
    "\n",
    "# Set batch size if not already set\n",
    "try:\n",
    "    if batch_size:\n",
    "        pass\n",
    "except NameError:\n",
    "    batch_size = 64\n",
    "\n",
    "save_model_path = './image_classification'\n",
    "n_samples = 4\n",
    "top_n_predictions = 3\n",
    "\n",
    "def test_model():\n",
    "    \"\"\"\n",
    "    Test the saved model against the test dataset\n",
    "    \"\"\"\n",
    "\n",
    "    test_features, test_labels = pickle.load(open('preprocess_training.p', mode='rb'))\n",
    "    loaded_graph = tf.Graph()\n",
    "\n",
    "    with tf.Session(graph=loaded_graph) as sess:\n",
    "        # Load model\n",
    "        loader = tf.train.import_meta_graph(save_model_path + '.meta')\n",
    "        loader.restore(sess, save_model_path)\n",
    "\n",
    "        # Get Tensors from loaded model\n",
    "        loaded_x = loaded_graph.get_tensor_by_name('x:0')\n",
    "        loaded_y = loaded_graph.get_tensor_by_name('y:0')\n",
    "        loaded_keep_prob = loaded_graph.get_tensor_by_name('keep_prob:0')\n",
    "        loaded_logits = loaded_graph.get_tensor_by_name('logits:0')\n",
    "        loaded_acc = loaded_graph.get_tensor_by_name('accuracy:0')\n",
    "        \n",
    "        # Get accuracy in batches for memory limitations\n",
    "        test_batch_acc_total = 0\n",
    "        test_batch_count = 0\n",
    "        \n",
    "        for train_feature_batch, train_label_batch in helper.batch_features_labels(test_features, test_labels, batch_size):\n",
    "            test_batch_acc_total += sess.run(\n",
    "                loaded_acc,\n",
    "                feed_dict={loaded_x: train_feature_batch, loaded_y: train_label_batch, loaded_keep_prob: 1.0})\n",
    "            test_batch_count += 1\n",
    "\n",
    "        print('Testing Accuracy: {}\\n'.format(test_batch_acc_total/test_batch_count))\n",
    "\n",
    "        # Print Random Samples\n",
    "        random_test_features, random_test_labels = tuple(zip(*random.sample(list(zip(test_features, test_labels)), n_samples)))\n",
    "        random_test_predictions = sess.run(\n",
    "            tf.nn.top_k(tf.nn.softmax(loaded_logits), top_n_predictions),\n",
    "            feed_dict={loaded_x: random_test_features, loaded_y: random_test_labels, loaded_keep_prob: 1.0})\n",
    "        helper.display_image_predictions(random_test_features, random_test_labels, random_test_predictions)\n",
    "\n",
    "\n",
    "test_model()"
   ]
  },
  {
   "cell_type": "markdown",
   "metadata": {},
   "source": [
    "## Why 50-70% Accuracy?\n",
    "You might be wondering why you can't get an accuracy any higher. First things first, 50% isn't bad for a simple CNN.  Pure guessing would get you 10% accuracy. However, you might notice people are getting scores [well above 70%](http://rodrigob.github.io/are_we_there_yet/build/classification_datasets_results.html#43494641522d3130).  That's because we haven't taught you all there is to know about neural networks. We still need to cover a few more techniques.\n",
    "## Submitting This Project\n",
    "When submitting this project, make sure to run all the cells before saving the notebook.  Save the notebook file as \"dlnd_image_classification.ipynb\" and save it as a HTML file under \"File\" -> \"Download as\".  Include the \"helper.py\" and \"problem_unittests.py\" files in your submission."
   ]
  }
 ],
 "metadata": {
  "anaconda-cloud": {},
  "kernelspec": {
   "display_name": "Python [conda env:tflearn]",
   "language": "python",
   "name": "conda-env-tflearn-py"
  },
  "language_info": {
   "codemirror_mode": {
    "name": "ipython",
    "version": 3
   },
   "file_extension": ".py",
   "mimetype": "text/x-python",
   "name": "python",
   "nbconvert_exporter": "python",
   "pygments_lexer": "ipython3",
   "version": "3.5.2"
  }
 },
 "nbformat": 4,
 "nbformat_minor": 0
}
